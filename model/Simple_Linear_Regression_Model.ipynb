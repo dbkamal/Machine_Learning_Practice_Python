{
 "cells": [
  {
   "cell_type": "markdown",
   "metadata": {},
   "source": [
    "# Simple Linear Regression Model"
   ]
  },
  {
   "cell_type": "markdown",
   "metadata": {},
   "source": [
    "### Source of data: use same random number"
   ]
  },
  {
   "cell_type": "code",
   "execution_count": 154,
   "metadata": {},
   "outputs": [],
   "source": [
    "import pandas as pd\n",
    "import numpy as np\n",
    "import matplotlib.pyplot as plt"
   ]
  },
  {
   "cell_type": "code",
   "execution_count": 173,
   "metadata": {},
   "outputs": [
    {
     "name": "stdout",
     "output_type": "stream",
     "text": [
      "(30, 2)\n",
      "(30, 1)\n"
     ]
    }
   ],
   "source": [
    "m = 30 # number of observation\n",
    "X = np.linspace(start=1, stop=10, num=m).reshape(-1,1) # features or X\n",
    "\n",
    "# create an array containing only \"1\"\n",
    "ones = np.ones([X.shape[0], 1])\n",
    "\n",
    "#cocatenate the ones to X matrix\n",
    "# h(theta) = theta_0 * x_0 + theta_1 * x_1 where x_0 one vector\n",
    "X_mod = np.concatenate([ones, X], 1)\n",
    "\n",
    "Y = np.add(np.random.rand(m,1)*5, 2 * X).reshape(-1,1)\n",
    "print(X_mod.shape)\n",
    "print(Y.shape)"
   ]
  },
  {
   "cell_type": "code",
   "execution_count": 175,
   "metadata": {},
   "outputs": [
    {
     "data": {
      "image/png": "[encoded data removed]",
      "text/plain": [
       "<matplotlib.figure.Figure at 0x11d421be0>"
      ]
     },
     "metadata": {},
     "output_type": "display_data"
    }
   ],
   "source": [
    "# plot the data\n",
    "plt.scatter(X, Y)\n",
    "plt.xlabel('Features')\n",
    "plt.ylabel('Label')\n",
    "plt.title('Feature vs Label Correlation')\n",
    "plt.show()"
   ]
  },
  {
   "cell_type": "markdown",
   "metadata": {},
   "source": [
    "Define cost function which is the Least Square Error"
   ]
  },
  {
   "cell_type": "code",
   "execution_count": 176,
   "metadata": {},
   "outputs": [],
   "source": [
    "def compute_cost(X, Y, theta):\n",
    "    inner = np.power(np.matmul(X, theta.T) - Y, 2)\n",
    "    return np.sum(inner) / (2 * len(X))"
   ]
  },
  {
   "cell_type": "markdown",
   "metadata": {},
   "source": [
    "Define the gradient descent algorithm"
   ]
  },
  {
   "cell_type": "code",
   "execution_count": 180,
   "metadata": {},
   "outputs": [],
   "source": [
    "def gradient_descent(X, Y, theta, alpha, epochs):\n",
    "    \n",
    "    costs = []\n",
    "    for i in range(epochs):\n",
    "        theta = theta - (alpha/len(X)) * np.sum((X @ theta.T - Y) * X, axis=0)\n",
    "        cost = compute_cost(X, Y, theta)\n",
    "        costs.append([i, cost])\n",
    "#         if i % 10 == 0:\n",
    "#             print('theta: ', theta)\n",
    "#             print('cost: ', cost)\n",
    "\n",
    "    return (theta, cost, costs)"
   ]
  },
  {
   "cell_type": "code",
   "execution_count": 181,
   "metadata": {},
   "outputs": [
    {
     "name": "stdout",
     "output_type": "stream",
     "text": [
      "Final result\n",
      "[[0.41453149 2.33271707]]\n",
      "1.136186700083792\n"
     ]
    }
   ],
   "source": [
    "# Execute the gradient descent algorithm\n",
    "# theta is a row vector\n",
    "theta = np.array([[0.0, 0.0]])\n",
    "alpha = 0.003\n",
    "epochs = 100\n",
    "g, cost, costs = gradient_descent(X_mod, Y, theta, alpha, epochs)\n",
    "print('Final result')\n",
    "print(g)\n",
    "print(cost)"
   ]
  },
  {
   "cell_type": "code",
   "execution_count": 182,
   "metadata": {},
   "outputs": [
    {
     "data": {
      "image/png": "[encoded data removed]",
      "text/plain": [
       "<matplotlib.figure.Figure at 0x11dffd898>"
      ]
     },
     "metadata": {},
     "output_type": "display_data"
    }
   ],
   "source": [
    "# final plot\n",
    "plt.scatter(X[:, 0].reshape(-1,1), Y)\n",
    "predicted_y = g[0][0] + g[0][1] * X\n",
    "plt.plot(X, predicted_y, '--')\n",
    "plt.title('Predicted Linear Line')\n",
    "plt.show()"
   ]
  },
  {
   "cell_type": "code",
   "execution_count": 189,
   "metadata": {},
   "outputs": [
    {
     "data": {
      "image/png": "[encoded data removed]",
      "text/plain": [
       "<matplotlib.figure.Figure at 0x11dbb83c8>"
      ]
     },
     "metadata": {},
     "output_type": "display_data"
    }
   ],
   "source": [
    "# list into numpy array\n",
    "costs = np.asarray(costs)\n",
    "\n",
    "# plot cost function vs no. of iterations\n",
    "plt.plot(costs[:,0], costs[:,1], '-')\n",
    "plt.title('Cost Function vs No_of_iterations')\n",
    "plt.show()"
   ]
  },
  {
   "cell_type": "markdown",
   "metadata": {},
   "source": [
    "\n",
    "Reindexing is a great way to shuffle (randomize) a DataFrame. In the example below, we take the index, which is array-like, and pass it to NumPy's random.permutation function, which shuffles its values in place. Calling reindex with this shuffled array causes the DataFrame rows to be shuffled in the same way. Try running the following cell multiple times!\n",
    "\n",
    "df.reindex(np.random.permutation(df.index))"
   ]
  },
  {
   "cell_type": "code",
   "execution_count": null,
   "metadata": {},
   "outputs": [],
   "source": []
  },
  {
   "cell_type": "markdown",
   "metadata": {},
   "source": [
    "Source of data: https://college.cengage.com/mathematics/brase/understandable_statistics/7e/students/datasets/slr/frames/frame.html This notebook will use Gradient Descent Algorithm to find the minimum cost/loss function. Minimum cost function helps to set the parameter \\theta for linear regression hypothesis function"
   ]
  },
  {
   "cell_type": "markdown",
   "metadata": {},
   "source": [
    "### Analysis the source data"
   ]
  },
  {
   "cell_type": "code",
   "execution_count": 44,
   "metadata": {},
   "outputs": [],
   "source": [
    "cricket_chimps_temp_df = pd.read_csv('/Users/kamal/GoogleDrive/Machine_Learning_Practice_Python/Machine_Learning_Practice_Python/data/cricket_chimps_temp.csv')"
   ]
  },
  {
   "cell_type": "code",
   "execution_count": null,
   "metadata": {},
   "outputs": [],
   "source": [
    "cricket_chimps_temp_df.head()"
   ]
  },
  {
   "cell_type": "code",
   "execution_count": null,
   "metadata": {},
   "outputs": [],
   "source": [
    "cricket_chimps_temp_df.describe()"
   ]
  },
  {
   "cell_type": "code",
   "execution_count": 95,
   "metadata": {},
   "outputs": [
    {
     "data": {
      "text/plain": [
       "array([[<matplotlib.axes._subplots.AxesSubplot object at 0x1a2a13eba8>]],\n",
       "      dtype=object)"
      ]
     },
     "execution_count": 95,
     "metadata": {},
     "output_type": "execute_result"
    },
    {
     "data": {
      "image/png": "[encoded data removed]",
      "text/plain": [
       "<matplotlib.figure.Figure at 0x1a2a0a4f28>"
      ]
     },
     "metadata": {},
     "output_type": "display_data"
    }
   ],
   "source": [
    "cricket_chimps_temp_df.hist('X')"
   ]
  },
  {
   "cell_type": "code",
   "execution_count": null,
   "metadata": {},
   "outputs": [],
   "source": [
    "cricket_chimps_temp_df"
   ]
  },
  {
   "cell_type": "code",
   "execution_count": 50,
   "metadata": {},
   "outputs": [
    {
     "data": {
      "image/png": "[encoded data removed]",
      "text/plain": [
       "<matplotlib.figure.Figure at 0x11248f2e8>"
      ]
     },
     "metadata": {},
     "output_type": "display_data"
    }
   ],
   "source": [
    "# plot the data\n",
    "X = cricket_chimps_temp_df['X'].values\n",
    "y = cricket_chimps_temp_df['Y'].values\n",
    "plt.scatter(X, y)\n",
    "plt.xlabel('Cricket Chirps Per Min')\n",
    "plt.ylabel('Temp in F')\n",
    "plt.show()"
   ]
  },
  {
   "cell_type": "markdown",
   "metadata": {},
   "source": [
    "**The above plot shows positive correlation of Cricket (insect) chirps with temperature**"
   ]
  },
  {
   "cell_type": "markdown",
   "metadata": {},
   "source": [
    "## Use Gradient Descent Algorithm"
   ]
  },
  {
   "cell_type": "code",
   "execution_count": 89,
   "metadata": {},
   "outputs": [],
   "source": [
    "theta_0 = 0\n",
    "theta_1 = 0\n",
    "feature = X\n",
    "actual_label = y\n",
    "alpha = 0.001 # hyperparameter learning rate\n",
    "no_obs = len(X)\n",
    "epoch = 1\n",
    "\n",
    "while epoch < 1000:\n",
    "    sum_theta_0 = theta_0 + theta_1 * feature - actual_label\n",
    "    sum_theta_1 = (theta_0 + theta_1 * feature - actual_label) * feature\n",
    "    \n",
    "    temp_0 = theta_0 - alpha * 1/no_obs * sum_theta_0\n",
    "    temp_1 = theta_1 - alpha * 1/no_obs * sum_theta_1\n",
    "    \n",
    "#     if abs(temp_0 - theta_0) < 0.001:\n",
    "#         break;\n",
    "    \n",
    "    theta_0 = temp_0\n",
    "    theta_1 = temp_1\n",
    "    \n",
    "    epoch += 1"
   ]
  },
  {
   "cell_type": "code",
   "execution_count": null,
   "metadata": {},
   "outputs": [],
   "source": [
    "print(theta_0, theta_1)\n",
    "print(theta_0.shape)"
   ]
  },
  {
   "cell_type": "code",
   "execution_count": 37,
   "metadata": {},
   "outputs": [],
   "source": [
    "def predicted_label(theta_0, theta_1, x):\n",
    "    return theta_0 + theta_1 * x"
   ]
  },
  {
   "cell_type": "code",
   "execution_count": 39,
   "metadata": {},
   "outputs": [
    {
     "data": {
      "image/png": "[encoded data removed]",
      "text/plain": [
       "<matplotlib.figure.Figure at 0x1124ccb00>"
      ]
     },
     "metadata": {},
     "output_type": "display_data"
    }
   ],
   "source": [
    "# plot the data based on new predicted value\n",
    "X = cricket_chimps_temp_df['X'].values\n",
    "y = cricket_chimps_temp_df['Y'].values\n",
    "plt.scatter(X, y)\n",
    "plt.plot(X, predicted_label(theta_0, theta_1, y))\n",
    "plt.show()"
   ]
  },
  {
   "cell_type": "markdown",
   "metadata": {},
   "source": [
    "## Simple Linear Regression using Scikit Learn - Popular opensourced ML Framework"
   ]
  },
  {
   "cell_type": "code",
   "execution_count": 54,
   "metadata": {},
   "outputs": [],
   "source": [
    "from sklearn.linear_model import LinearRegression"
   ]
  },
  {
   "cell_type": "code",
   "execution_count": 76,
   "metadata": {},
   "outputs": [
    {
     "data": {
      "text/plain": [
       "0.69746514501674"
      ]
     },
     "execution_count": 76,
     "metadata": {},
     "output_type": "execute_result"
    }
   ],
   "source": [
    "# reshape the one feature into column-wise\n",
    "X = X.T\n",
    "\n",
    "reg = LinearRegression()\n",
    "reg.fit(X, y)\n",
    "\n",
    "reg.score(X, y)"
   ]
  },
  {
   "cell_type": "code",
   "execution_count": 80,
   "metadata": {},
   "outputs": [
    {
     "data": {
      "text/plain": [
       "array([91.05419634])"
      ]
     },
     "execution_count": 80,
     "metadata": {},
     "output_type": "execute_result"
    }
   ],
   "source": [
    "predicted_label = reg.predict(np.array([[20.000]]))\n",
    "predicted_label"
   ]
  },
  {
   "cell_type": "code",
   "execution_count": 82,
   "metadata": {},
   "outputs": [
    {
     "data": {
      "text/plain": [
       "array([3.29109457])"
      ]
     },
     "execution_count": 82,
     "metadata": {},
     "output_type": "execute_result"
    }
   ],
   "source": [
    "# Estimated coefficients for the linear regression problem\n",
    "reg.coef_"
   ]
  },
  {
   "cell_type": "markdown",
   "metadata": {},
   "source": [
    "## Simple Linear Regression using Tensorflow"
   ]
  },
  {
   "cell_type": "code",
   "execution_count": 84,
   "metadata": {},
   "outputs": [],
   "source": [
    "import tensorflow as tf"
   ]
  },
  {
   "cell_type": "code",
   "execution_count": null,
   "metadata": {},
   "outputs": [],
   "source": [
    "classifier = tf.estimator.LinearRegressor()"
   ]
  }
 ],
 "metadata": {
  "kernelspec": {
   "display_name": "Python 3",
   "language": "python",
   "name": "python3"
  },
  "language_info": {
   "codemirror_mode": {
    "name": "ipython",
    "version": 3
   },
   "file_extension": ".py",
   "mimetype": "text/x-python",
   "name": "python",
   "nbconvert_exporter": "python",
   "pygments_lexer": "ipython3",
   "version": "3.6.8"
  }
 },
 "nbformat": 4,
 "nbformat_minor": 2
}
